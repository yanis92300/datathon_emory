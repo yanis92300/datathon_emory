{
 "cells": [
  {
   "cell_type": "markdown",
   "metadata": {},
   "source": [
    "# DATASET CURATION - MASKED ROI PROJECT\n",
    "\n",
    "\n",
    "**Objectives**: \n",
    "\n",
    "To create the following groups:\n",
    "1. **Positive group**: BIRADS 0 that became BIRADS 3, 4, 5, 6 in the subsequent diagnostic study\n",
    "2. **Negative group**: BIRADS 1, 2 and BIRADS 0 that became BIRADS 1, 2 in the subsequent diagnostic study\n"
   ]
  },
  {
   "cell_type": "markdown",
   "metadata": {},
   "source": [
    "## 1. Prep"
   ]
  },
  {
   "cell_type": "code",
   "execution_count": null,
   "metadata": {},
   "outputs": [],
   "source": [
    "import pandas as pd\n",
    "import numpy as np\n",
    "import random\n",
    "from tqdm import tqdm\n",
    "\n",
    "from IPython.display import display\n",
    "\n",
    "pd.set_option('display.max_rows', 50)\n",
    "pd.set_option('display.max_columns', 500)"
   ]
  },
  {
   "cell_type": "code",
   "execution_count": null,
   "metadata": {},
   "outputs": [],
   "source": [
    "def get_stats(df, suffix=None):\n",
    "    \"\"\"Provides a quick summary of a dataframe.\"\"\"\n",
    "    try:\n",
    "        print(f\"DF shape: {df.shape}\")\n",
    "        print(f\"# Patients: {df.empi_anon.nunique()}\")\n",
    "        print(f\"# Cases: {df.acc_anon.nunique()}\\n\")\n",
    "        print(f\"# Images: {df.png_path.nunique()}\\n\")\n",
    "    except Exception as e:\n",
    "        print(e)"
   ]
  },
  {
   "cell_type": "code",
   "execution_count": null,
   "metadata": {},
   "outputs": [],
   "source": [
    "# EMBED\n",
    "metadata_full = pd.read_csv(\"/fsx1/emory-mammo/tables/filtered_metadata.csv\", dtype=str) #TODO: change back\n",
    "magview_full = pd.read_csv(\"/fsx1/emory-mammo/tables/filtered_magview.csv\", dtype=str) #TODO: change back"
   ]
  },
  {
   "cell_type": "code",
   "execution_count": null,
   "metadata": {},
   "outputs": [],
   "source": [
    "# Selecting the following columns\n",
    "\n",
    "meta_cols = [\n",
    "    \"empi_anon\",\n",
    "    \"acc_anon\",\n",
    "    \"ImageLateralityFinal\",\n",
    "    \"ViewPosition\",\n",
    "    \"study_date_anon\",\n",
    "    \"FinalImageType\",\n",
    "    \"png_path\",\n",
    "    \"StudyDescription\",\n",
    "    #\"match_level\",\n",
    "    \"num_roi\",\n",
    "    #\"ROI_coords\" #TODO: may be important later if there is no ROI coords\n",
    "]\n",
    "\n",
    "mag_cols = [\n",
    "    \"empi_anon\",\n",
    "    \"acc_anon\",\n",
    "    \"study_date_anon\",\n",
    "    \"desc\",\n",
    "    \"side\",\n",
    "    \"asses\", # The BI-RADS score of the exam\n",
    "    \"path_severity\", # most severe pathology result from a given specimen, abstracted from path1 – path10\n",
    "    \"bside\",\n",
    "    'procdate_anon',\n",
    "    'pdate_anon',\n",
    "]"
   ]
  },
  {
   "cell_type": "code",
   "execution_count": null,
   "metadata": {},
   "outputs": [],
   "source": [
    "metadata = metadata_full[meta_cols].copy()\n",
    "magview = magview_full[mag_cols].copy()"
   ]
  },
  {
   "cell_type": "code",
   "execution_count": null,
   "metadata": {},
   "outputs": [],
   "source": [
    "metadata.study_date_anon = pd.to_datetime(metadata.study_date_anon)\n",
    "magview.study_date_anon = pd.to_datetime(magview.study_date_anon)"
   ]
  },
  {
   "cell_type": "code",
   "execution_count": null,
   "metadata": {},
   "outputs": [],
   "source": [
    "metadata.num_roi = metadata.num_roi.astype(int)"
   ]
  },
  {
   "cell_type": "markdown",
   "metadata": {},
   "source": [
    "## 2. METADATA: 2D MLO & CC\n",
    "**MLO (Mediolateral Oblique)** and **CC (Craniocaudal)** are standard mammographic views:\n",
    "\n",
    "- **MLO:** Captures breast tissue from the upper outer to the lower inner parts, including the chest wall area. Essential for detecting abnormalities in a large portion of the breast.\n",
    "- **CC:** Provides a straight-on view from above, crucial for assessing central and inner breast tissue.\n",
    "\n",
    "These views together offer a comprehensive evaluation of the breast in mammography.\n"
   ]
  },
  {
   "cell_type": "code",
   "execution_count": null,
   "metadata": {},
   "outputs": [],
   "source": [
    "# Filter metadata to include only 2D mammograms with views MLO or CC\n",
    "meta_2d = metadata.loc[\n",
    "    (metadata.FinalImageType == \"2D\") &  # Select only 2D images\n",
    "    (metadata.ViewPosition.isin([\"MLO\", \"CC\"]))  # Include images with ViewPosition of MLO or CC\n",
    "]\n",
    "\n",
    "# Display statistics for the filtered 2D mammogram data\n",
    "get_stats(meta_2d)"
   ]
  },
  {
   "cell_type": "code",
   "execution_count": null,
   "metadata": {},
   "outputs": [],
   "source": [
    "def get_image_stats(df):\n",
    "    \"\"\"Provides a quick summary of the number of unique images and the ROIs.\"\"\"\n",
    "    temp_df = pd.merge(df, meta_2d, on=[\"empi_anon\", \"acc_anon\"], how=\"left\")\n",
    "    temp_df = temp_df.loc[\n",
    "        (temp_df.side==temp_df.ImageLateralityFinal)\n",
    "    ]\n",
    "    temp_df.drop_duplicates(subset=\"png_path\", inplace=True)\n",
    "    print(f\"# PNG PATH: {int(temp_df.png_path.nunique())}\")\n",
    "    print(f\"# ROI: {int(temp_df.num_roi.sum())}\")\n",
    "    print(f\"{temp_df.num_roi.value_counts()}\")\n",
    "    del temp_df"
   ]
  },
  {
   "cell_type": "markdown",
   "metadata": {},
   "source": [
    "## 3. Screening\n",
    "### 3.1 Filter the 'magview' DataFrame for exams where the 'desc' column indicates a screening procedure."
   ]
  },
  {
   "cell_type": "code",
   "execution_count": null,
   "metadata": {},
   "outputs": [],
   "source": [
    "# Filter the 'magview' DataFrame to include only rows where the 'desc' column contains \"screen\"\n",
    "# The 'desc' column includes study descriptions like \"screening\" or \"diagnostic\" mammogram\n",
    "# The search is case-insensitive to match any variation of \"screen\"\n",
    "screening_magview = magview.loc[magview.desc.str.contains(\"screen\", case=False)].copy() \n",
    "\n",
    "# Display statistics for the filtered screening mammogram data\n",
    "get_stats(screening_magview)"
   ]
  },
  {
   "cell_type": "markdown",
   "metadata": {},
   "source": [
    "### 3.2 Creating entries for the negative contralateral breast in bilateral examinations\n",
    "MAGVIEW only has entries if a finding exists. \n",
    "\n",
    "This means that if an exam is a bilateral exam and only one of the breast has a finding, the contralateral breast (negative) won't have an entry. \n",
    "\n",
    "This would be problematic at the time when we need to merge with METADATA, because the contralateral breast would be excluded. \n",
    "\n",
    "Therefore, we would need to create rows for the negative contralateral breast."
   ]
  },
  {
   "cell_type": "code",
   "execution_count": null,
   "metadata": {},
   "outputs": [],
   "source": [
    "def get_exam_laterality(row):\n",
    "    \"\"\"\n",
    "    A convenient function to get the exam laterality to be used with DF.apply() instead of iterating over each row.\n",
    "    \n",
    "    Function to determine the laterality of the exam based on the 'desc' column.\n",
    "    This is intended to be used with DataFrame.apply() for efficient row-wise operations.\n",
    "    \n",
    "    Returns:\n",
    "    - \"B\" for bilateral exams (if \"bilat\" is found in the description).\n",
    "    - \"L\" for left-sided exams (if \"left\" is found in the description).\n",
    "    - \"R\" for right-sided exams (if \"right\" is found in the description).\n",
    "    - None if no laterality is specified in the description.\n",
    "    \"\"\"\n",
    "    if (\"bilat\" in row.desc.lower()):\n",
    "        return \"B\"\n",
    "    elif (\"left\" in row.desc.lower()):\n",
    "        return \"L\"\n",
    "    elif (\"right\" in row.desc.lower()):\n",
    "        return \"R\"\n",
    "    else:\n",
    "        return None"
   ]
  },
  {
   "cell_type": "markdown",
   "metadata": {},
   "source": [
    "#### 3.2a: Processing screening_magview\n",
    "This section processes the `screening_magview` DataFrame to manage bilateral exams:\n",
    "\n",
    "- **Determine Laterality**: Classifies exams as bilateral (B), left (L), or right (R).\n",
    "- **Split Bilateral Entries**: Fills missing `side` values as \"B\" and splits into separate left and right entries.\n",
    "- **Aggregate and Complete Data**: Identifies and adds missing contralateral sides.\n",
    "- **Finalize DataFrame**: Merges original with new entries, sorts, and removes duplicates.\n",
    "- **Image Statistics**: Displays statistics for the processed data."
   ]
  },
  {
   "cell_type": "code",
   "execution_count": null,
   "metadata": {},
   "outputs": [],
   "source": [
    "# Determine exam laterality (B, L, R)\n",
    "screening_magview[\"exam_laterality\"] = screening_magview.apply(get_exam_laterality, axis=1)\n",
    "screening_magview.exam_laterality.value_counts(dropna=False)\n",
    "screening_magview.side.value_counts(dropna=False)\n",
    "\n",
    "# Fill missing 'side' values with \"B\" (bilateral)\n",
    "screening_magview.side = screening_magview.side.fillna(\"B\")\n",
    "\n",
    "# Create a copy for the right side, replacing \"B\" with \"R\"\n",
    "screening_magview_r = screening_magview.loc[screening_magview.side==\"B\"].copy()\n",
    "screening_magview_r.side = screening_magview.side.str.replace(\"B\", \"R\")\n",
    "\n",
    "# Replace \"B\" with \"L\" for the left side in the original DataFrame\n",
    "screening_magview.side = screening_magview.side.str.replace(\"B\", \"L\")\n",
    "\n",
    "# Combine left and right side DataFrames\n",
    "screening_magview = pd.concat([screening_magview, screening_magview_r])\n",
    "print(screening_magview.side.value_counts(dropna=False))\n",
    "print(screening_magview.shape)\n",
    "\n",
    "# Sort and remove duplicates\n",
    "screening_magview = screening_magview.sort_values([\"empi_anon\", \"acc_anon\", \"study_date_anon\"]).drop_duplicates()\n",
    "screening_magview\n",
    "\n",
    "# Select bilateral exams for further processing\n",
    "exam_lat_b = screening_magview.loc[screening_magview.exam_laterality==\"B\"]\n",
    "exam_lat_b.sample(2)\n",
    "\n",
    "# We want to aggregate all the sides for each bilateral exam so that we can filter those having only a single side.\n",
    "exam_lat_b_agg = exam_lat_b.groupby('acc_anon')['side'].apply(''.join).reset_index()\n",
    "exam_lat_b_agg.sample(2)\n",
    "exam_lat_b_agg.side.value_counts()\n",
    "\n",
    "# Identify exams missing the left side and create entries for them\n",
    "exam_lat_b_side_r = exam_lat_b_agg.loc[~(exam_lat_b_agg.side.str.contains(\"L\"))].copy()\n",
    "exam_lat_b_side_l = exam_lat_b_agg.loc[~(exam_lat_b_agg.side.str.contains(\"R\"))].copy()\n",
    "screening_magview_right_to_left = screening_magview.loc[screening_magview.acc_anon.isin(exam_lat_b_side_r.acc_anon)].copy().drop_duplicates()\n",
    "\n",
    "\n",
    "# Identify exams missing the right side and create entries for them\n",
    "screening_magview_left_to_right = screening_magview.loc[screening_magview.acc_anon.isin(exam_lat_b_side_l.acc_anon)].copy().drop_duplicates()\n",
    "\n",
    "# Create the negative left side\n",
    "screening_magview_right_to_left.loc[screening_magview_right_to_left.side==\"R\", \"side\"] = \"L\"\n",
    "screening_magview_right_to_left.loc[screening_magview_right_to_left.side==\"L\", \"asses\"] = \"N\"\n",
    "screening_magview_right_to_left.loc[screening_magview_right_to_left.side==\"L\", \"path_severity\"] = np.nan\n",
    "\n",
    "screening_magview_right_to_left\n",
    "\n",
    "# Create the negative right side\n",
    "screening_magview_left_to_right.loc[screening_magview_left_to_right.side==\"L\", \"side\"] = \"R\"\n",
    "screening_magview_left_to_right.loc[screening_magview_left_to_right.side==\"R\", \"asses\"] = \"N\"\n",
    "screening_magview_left_to_right.loc[screening_magview_left_to_right.side==\"R\", \"path_severity\"] = np.nan\n",
    "\n",
    "screening_magview_left_to_right\n",
    "\n",
    "# Merge original with contralateral entries, sort, and remove duplicates\n",
    "screening_magview_with_contralat = pd.concat([screening_magview, screening_magview_left_to_right, screening_magview_right_to_left]).sort_values([\"empi_anon\", \"acc_anon\", \"study_date_anon\"]).drop_duplicates()\n",
    "screening_magview_with_contralat.sample(2)\n",
    "\n",
    "# Display image statistics for the final DataFrame\n",
    "get_image_stats(screening_magview_with_contralat)"
   ]
  },
  {
   "cell_type": "markdown",
   "metadata": {},
   "source": [
    "### 3.3 BIRADS 0 and BIRADS 1, 2\n",
    "\n",
    "This section filters the data by BIRADS categories:\n",
    "\n",
    "- **BIRADS 0 (A)**: Additional evaluation needed.\n",
    "- **BIRADS 1 (N)**: Negative.\n",
    "- **BIRADS 2 (B)**: Benign.\n",
    "\n",
    "The filtered data for each category is analyzed with basic statistics and image details."
   ]
  },
  {
   "cell_type": "code",
   "execution_count": null,
   "metadata": {},
   "outputs": [],
   "source": [
    "# BIRADS 0: Select cases with BIRADS 0 (\"A\" - Additional evaluation)\n",
    "b0 = screening_magview_with_contralat.loc[screening_magview_with_contralat.asses.isin([\"A\"])]\n",
    "\n",
    "# Display statistics for BIRADS 0 cases\n",
    "get_stats(b0)\n",
    "get_image_stats(b0)"
   ]
  },
  {
   "cell_type": "code",
   "execution_count": null,
   "metadata": {},
   "outputs": [],
   "source": [
    "# BIRADS 1, 2: Select cases with BIRADS 1 (\"N\" - Negative) or BIRADS 2 (\"B\" - Benign)\n",
    "b12 = screening_magview_with_contralat.loc[screening_magview_with_contralat.asses.isin([\"B\", \"N\"])]\n",
    "\n",
    "# Display statistics for BIRADS 1 and 2 cases\n",
    "get_stats(b12)\n",
    "get_image_stats(b12)"
   ]
  },
  {
   "cell_type": "markdown",
   "metadata": {},
   "source": [
    "## 4. Diagnostic"
   ]
  },
  {
   "cell_type": "code",
   "execution_count": null,
   "metadata": {},
   "outputs": [],
   "source": [
    "# Extracting rows from magview where 'desc' contains the word 'diag' (case insensitive)\n",
    "diag_magview = magview.loc[magview.desc.str.contains('diag', case=False)]\n",
    "\n",
    "# Displaying basic statistics for the diagnostic magview data\n",
    "get_stats(diag_magview)\n",
    "print()\n",
    "\n",
    "# Printing the counts of 'asses' (assessment) column values in the diagnostic magview data\n",
    "print(f\"Asses Counts:\\n{diag_magview.asses.value_counts()}\")"
   ]
  },
  {
   "cell_type": "markdown",
   "metadata": {},
   "source": [
    "## 5. Screening BIRADS 0 and Diagnostic"
   ]
  },
  {
   "cell_type": "code",
   "execution_count": null,
   "metadata": {},
   "outputs": [],
   "source": [
    "# Merging BIRADS 0 data with diagnostic magview data based on 'empi_anon'\n",
    "# Ensuring side consistency between screening and diagnostic records\n",
    "b0_dx = pd.merge(b0, diag_magview, on='empi_anon', suffixes=[None, \"_dx\"])\n",
    "b0_dx = b0_dx.loc[\n",
    "    (b0_dx.side==b0_dx.side_dx)\n",
    "    | (b0_dx.side_dx==\"B\")\n",
    "    | (b0_dx.side_dx.isna())\n",
    "]\n",
    "\n",
    "# Calculate the difference in days between the diagnostic and screening study dates\n",
    "b0_dx[\"delta_date_dx\"] = (b0_dx.study_date_anon_dx - b0_dx.study_date_anon).dt.days\n",
    "\n",
    "# Filter to get only subsequent diagnostic studies within 3 months of the screening\n",
    "b0_dx_3mo = b0_dx.loc[b0_dx.delta_date_dx.isin(range(0, 91))]\n",
    "\n",
    "# Randomly sample 1 record from the filtered data\n",
    "b0_dx_3mo.sample(1)"
   ]
  },
  {
   "cell_type": "markdown",
   "metadata": {},
   "source": [
    "### 5.1. BIRADS 0 (Screening) --> BIRADS 1, 2 (Diagnostic)"
   ]
  },
  {
   "cell_type": "code",
   "execution_count": null,
   "metadata": {},
   "outputs": [],
   "source": [
    "# 5.1. BIRADS 0 (Screening) --> BIRADS 1, 2 (Diagnostic)\n",
    "# Filtering cases where BIRADS 0 (Screening) progressed to BIRADS 1 or 2 (Diagnostic)\n",
    "b0_12dx = b0_dx_3mo.loc[b0_dx_3mo.asses_dx.isin([\"N\", \"B\"])].copy()\n",
    "\n",
    "# Displaying basic statistics and image statistics for BIRADS 1, 2 (Diagnostic) cases\n",
    "get_stats(b0_12dx)\n",
    "get_image_stats(b0_12dx)"
   ]
  },
  {
   "cell_type": "markdown",
   "metadata": {},
   "source": [
    "### 5.2. BIRADS 0 (Screening) --> BIRADS 3, 4, 5, 6 (Diagnostic)"
   ]
  },
  {
   "cell_type": "code",
   "execution_count": null,
   "metadata": {},
   "outputs": [],
   "source": [
    "# Filtering cases where BIRADS 0 (Screening) progressed to BIRADS 3, 4, 5, or 6 (Diagnostic)\n",
    "b0_3456dx = b0_dx_3mo.loc[b0_dx_3mo.asses_dx.isin([\"P\", \"S\", \"M\", \"K\"])].copy()\n",
    "\n",
    "# Displaying basic statistics and image statistics for BIRADS 3, 4, 5, 6 (Diagnostic) cases\n",
    "get_stats(b0_3456dx)\n",
    "get_image_stats(b0_3456dx)"
   ]
  },
  {
   "cell_type": "code",
   "execution_count": null,
   "metadata": {},
   "outputs": [],
   "source": []
  },
  {
   "cell_type": "markdown",
   "metadata": {},
   "source": [
    "## 6. Negative group\n",
    "Negative group = BIRADS 1, 2 (Screening) + BIRADS 0 (Screening) --> BIRADS 1, 2 (Diagnostic)"
   ]
  },
  {
   "cell_type": "code",
   "execution_count": null,
   "metadata": {},
   "outputs": [],
   "source": [
    "# Concatenating BIRADS 1, 2 (Screening) and BIRADS 0 --> BIRADS 1, 2 (Diagnostic) data\n",
    "neg_group = pd.concat([b12, b0_12dx])\n",
    "neg_group.drop_duplicates(inplace=True)\n",
    "\n",
    "# Displaying basic statistics and image statistics for the negative group\n",
    "get_stats(neg_group)\n",
    "get_image_stats(neg_group)"
   ]
  },
  {
   "cell_type": "code",
   "execution_count": null,
   "metadata": {},
   "outputs": [],
   "source": [
    "# Include only those with a negative follow-up after 1 year\n",
    "neg_group_b12 = pd.merge(neg_group, b12, on=[\"empi_anon\"], suffixes=(None, \"_1yrfu\"))\n",
    "\n",
    "# Ensuring side consistency between the initial and follow-up studies\n",
    "neg_group_b12 = neg_group_b12.loc[\n",
    "    (neg_group_b12.side==neg_group_b12.side_1yrfu)\n",
    "]\n",
    "\n",
    "# Calculate the difference in days between the 1-year follow-up study and the initial study\n",
    "neg_group_b12[\"delta_date_1yrfu\"] = (neg_group_b12.study_date_anon_1yrfu - neg_group_b12.study_date_anon).dt.days\n",
    "\n",
    "# Displaying basic statistics and image statistics for the negative group with 1-year follow-up\n",
    "get_stats(neg_group_b12)\n",
    "get_image_stats(neg_group_b12)\n",
    "\n",
    "# Randomly sample 2 records from the filtered data\n",
    "neg_group_b12.sample(2)"
   ]
  },
  {
   "cell_type": "code",
   "execution_count": null,
   "metadata": {},
   "outputs": [],
   "source": [
    "# Further filter to include only those with follow-up more than 1 year later\n",
    "neg_group_1yrfu = neg_group_b12.loc[\n",
    "    (neg_group_b12.delta_date_1yrfu > 360)\n",
    "]\n",
    "\n",
    "# Displaying basic statistics and image statistics for the negative group with follow-up > 1 year\n",
    "get_stats(neg_group_1yrfu)\n",
    "get_image_stats(neg_group_1yrfu)"
   ]
  },
  {
   "cell_type": "code",
   "execution_count": null,
   "metadata": {},
   "outputs": [],
   "source": [
    "# Sort by patient and study date, then drop duplicates to keep only the first follow-up study\n",
    "neg_group_1yrfu_first_study = neg_group_1yrfu.sort_values([\"empi_anon\", \"acc_anon\", \"study_date_anon_1yrfu\"]).drop_duplicates(subset=[\"acc_anon\", \"side\"]) # to only get the first followup study\n",
    "\n",
    "# Displaying basic statistics and image statistics for the first follow-up study in the negative group\n",
    "get_stats(neg_group_1yrfu_first_study)\n",
    "get_image_stats(neg_group_1yrfu_first_study)"
   ]
  },
  {
   "cell_type": "code",
   "execution_count": null,
   "metadata": {},
   "outputs": [],
   "source": [
    "# Counting the pathology severity in the first follow-up study of the negative group\n",
    "neg_group_1yrfu_first_study.path_severity.value_counts()"
   ]
  },
  {
   "cell_type": "code",
   "execution_count": null,
   "metadata": {},
   "outputs": [],
   "source": [
    "# Exclude any patient with any biopsy result\n",
    "neg_group_1yrfu_first_study_no_biopsy = neg_group_1yrfu_first_study.loc[neg_group_1yrfu_first_study.path_severity.isna()].copy()"
   ]
  },
  {
   "cell_type": "code",
   "execution_count": null,
   "metadata": {},
   "outputs": [],
   "source": [
    "# Merging with metadata to get the associated images\n",
    "neg_group_1yrfu_first_study_no_biopsy_images = pd.merge(neg_group_1yrfu_first_study_no_biopsy, meta_2d, on=[\"empi_anon\", \"acc_anon\", \"study_date_anon\"])\n",
    "\n",
    "# Ensure image and study side consistency\n",
    "neg_group_1yrfu_first_study_no_biopsy_images = neg_group_1yrfu_first_study_no_biopsy_images.loc[\n",
    "    (neg_group_1yrfu_first_study_no_biopsy_images.side == neg_group_1yrfu_first_study_no_biopsy_images.ImageLateralityFinal)\n",
    "]\n",
    "\n",
    "# Remove duplicate images based on the file path\n",
    "neg_group_1yrfu_first_study_no_biopsy_images.drop_duplicates(subset=\"png_path\", inplace=True)\n",
    "\n",
    "# Displaying basic statistics and image statistics for the first follow-up study without biopsy results in the negative group\n",
    "get_stats(neg_group_1yrfu_first_study_no_biopsy_images)"
   ]
  },
  {
   "cell_type": "code",
   "execution_count": null,
   "metadata": {},
   "outputs": [],
   "source": [
    "# Summing and displaying the number of regions of interest (ROIs) in the images\n",
    "print(f\"ROIs = {neg_group_1yrfu_first_study_no_biopsy_images.num_roi.sum()}\")\n",
    "\n",
    "# Displaying the count of ROIs\n",
    "print(neg_group_1yrfu_first_study_no_biopsy_images.num_roi.value_counts())"
   ]
  },
  {
   "cell_type": "markdown",
   "metadata": {},
   "source": [
    "## 7. Positive Group"
   ]
  },
  {
   "cell_type": "code",
   "execution_count": null,
   "metadata": {},
   "outputs": [],
   "source": [
    "# Merging the BIRADS 0 (Screening) --> BIRADS 3, 4, 5, 6 (Diagnostic) data with metadata to obtain associated images\n",
    "pos_group_images = pd.merge(b0_3456dx, meta_2d, on=[\"empi_anon\", \"acc_anon\", \"study_date_anon\"])\n",
    "\n",
    "# Ensure that the side of the study matches the image laterality\n",
    "pos_group_images = pos_group_images.loc[\n",
    "    (pos_group_images.side == pos_group_images.ImageLateralityFinal)\n",
    "]\n",
    "\n",
    "# Remove duplicate images based on the file path\n",
    "pos_group_images.drop_duplicates(subset=\"png_path\", inplace=True)\n",
    "\n",
    "# Displaying basic statistics for the positive group images\n",
    "get_stats(pos_group_images)"
   ]
  },
  {
   "cell_type": "code",
   "execution_count": null,
   "metadata": {},
   "outputs": [],
   "source": [
    "# Summing and displaying the total number of regions of interest (ROIs) in the images\n",
    "print(f\"ROIs  = {pos_group_images.num_roi.sum()}\")\n",
    "\n",
    "# Displaying the count of ROIs in the images\n",
    "print(pos_group_images.num_roi.value_counts())"
   ]
  },
  {
   "cell_type": "markdown",
   "metadata": {},
   "source": [
    "## 8. Excluding Images from the Negative Group that are found in the Positive Group using acc_anon and side"
   ]
  },
  {
   "cell_type": "code",
   "execution_count": null,
   "metadata": {},
   "outputs": [],
   "source": [
    "# Merge the negative group with the positive group based on 'empi_anon', 'acc_anon', and 'side'\n",
    "# The suffixes \"_neg\" and \"_pos\" distinguish columns from the negative and positive groups, respectively\n",
    "neg_pos = pd.merge(neg_group_1yrfu_first_study_no_biopsy_images, pos_group_images, on=[\"empi_anon\", \"acc_anon\", \"side\"], suffixes=[\"_neg\", \"_pos\"])\n",
    "neg_pos.sample(2) # Randomly sample 2 records from the merged negative and positive group data"
   ]
  },
  {
   "cell_type": "code",
   "execution_count": null,
   "metadata": {},
   "outputs": [],
   "source": [
    "# Create a new column 'acc_anon_side' as a unique identifier by concatenating 'acc_anon' and 'side' in the merged data\n",
    "neg_pos[\"acc_anon_side\"] = neg_pos.acc_anon + neg_pos.side\n",
    "neg_pos.sample(2) # Randomly sample 2 records to verify the new 'acc_anon_side' identifier"
   ]
  },
  {
   "cell_type": "code",
   "execution_count": null,
   "metadata": {},
   "outputs": [],
   "source": [
    "# Similarly, create 'acc_anon_side' in the negative group data for comparison\n",
    "neg_group_1yrfu_first_study_no_biopsy_images[\"acc_anon_side\"] = neg_group_1yrfu_first_study_no_biopsy_images.acc_anon + neg_group_1yrfu_first_study_no_biopsy_images.side\n",
    "neg_group_1yrfu_first_study_no_biopsy_images.sample(2) # Randomly sample 2 records to verify the new identifier"
   ]
  },
  {
   "cell_type": "code",
   "execution_count": null,
   "metadata": {},
   "outputs": [],
   "source": [
    "# Exclude any images from the negative group that are also found in the positive group \n",
    "# by filtering out rows where 'acc_anon_side' matches any in the positive group\n",
    "neg_group_final = neg_group_1yrfu_first_study_no_biopsy_images.loc[~neg_group_1yrfu_first_study_no_biopsy_images.acc_anon_side.isin(neg_pos.acc_anon_side)]\n",
    "neg_group_final.sample(2) # Randomly sample 2 records from the final negative group after exclusion"
   ]
  },
  {
   "cell_type": "code",
   "execution_count": null,
   "metadata": {},
   "outputs": [],
   "source": [
    "# Displaying basic statistics for the final negative group after exclusion\n",
    "get_stats(neg_group_final)\n",
    "\n",
    "# Summing and displaying the total number of regions of interest (ROIs) in the final negative group images\n",
    "print(f\"ROIs  = {neg_group_final.num_roi.sum()}\")\n",
    "\n",
    "# Displaying the count of ROIs in the final negative group images\n",
    "print(neg_group_final.num_roi.value_counts())"
   ]
  },
  {
   "cell_type": "markdown",
   "metadata": {},
   "source": [
    "## 9. Saving and Exporting\n",
    "\n",
    "    'empi_anon',               # Anonymous patient identifier\n",
    "    'acc_anon',                # Anonymous accession number\n",
    "    'desc',                    # Study description\n",
    "    'asses',                   # Assessment result from the initial study\n",
    "    'asses_dx',                # Assessment result from the diagnostic study\n",
    "    'path_severity',           # Pathology severity\n",
    "    'study_date_anon',         # Anonymous date of the initial study\n",
    "    'study_date_anon_dx',      # Anonymous date of the diagnostic study\n",
    "    'side',                    # Side of the body (e.g., left or right)\n",
    "    'ImageLateralityFinal',    # Final image laterality\n",
    "    'bside',                   # Biopsy side\n",
    "    'ViewPosition',            # Position of the view in the image\n",
    "    # 'match_level',           # (Commented out) Level of matching between studies\n",
    "    'num_roi',                 # Number of regions of interest (ROIs)\n",
    "    # 'ROI_coords',            # (Commented out) Coordinates of the ROIs\n",
    "    'png_path',                # File path to the image"
   ]
  },
  {
   "cell_type": "code",
   "execution_count": null,
   "metadata": {},
   "outputs": [],
   "source": [
    "columns_to_save = [\n",
    "    'empi_anon',\n",
    "    'acc_anon',\n",
    "    'desc',\n",
    "    'asses',\n",
    "    'asses_dx',\n",
    "    'path_severity',\n",
    "    'study_date_anon',\n",
    "    'study_date_anon_dx',\n",
    "    'side',\n",
    "    'ImageLateralityFinal',\n",
    "    'bside',\n",
    "    'ViewPosition',\n",
    "    #'match_level',\n",
    "    'num_roi',\n",
    "    #'ROI_coords',\n",
    "    'png_path',\n",
    "]"
   ]
  },
  {
   "cell_type": "code",
   "execution_count": null,
   "metadata": {},
   "outputs": [],
   "source": [
    "# Export the final negative group to a CSV file\n",
    "neg_group_final[columns_to_save].to_csv(\"NEGATIVE_GROUP.csv\", index=False)"
   ]
  },
  {
   "cell_type": "code",
   "execution_count": null,
   "metadata": {},
   "outputs": [],
   "source": [
    "# Export the positive group images to a CSV file\n",
    "pos_group_images[columns_to_save].to_csv(\"POSITIVE_GROUP.csv\", index=False)"
   ]
  },
  {
   "cell_type": "markdown",
   "metadata": {},
   "source": [
    "# END"
   ]
  }
 ],
 "metadata": {
  "kernelspec": {
   "display_name": "Python 3 (ipykernel)",
   "language": "python",
   "name": "python3"
  },
  "language_info": {
   "codemirror_mode": {
    "name": "ipython",
    "version": 3
   },
   "file_extension": ".py",
   "mimetype": "text/x-python",
   "name": "python",
   "nbconvert_exporter": "python",
   "pygments_lexer": "ipython3",
   "version": "3.10.10"
  }
 },
 "nbformat": 4,
 "nbformat_minor": 4
}
